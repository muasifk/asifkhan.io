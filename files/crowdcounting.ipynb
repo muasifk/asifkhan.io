{
  "nbformat": 4,
  "nbformat_minor": 0,
  "metadata": {
    "colab": {
      "name": "crowdcounting.ipynb",
      "provenance": [],
      "collapsed_sections": [],
      "authorship_tag": "ABX9TyMxqlB1l9WWUKs20qVvNQTa",
      "include_colab_link": true
    },
    "kernelspec": {
      "name": "python3",
      "display_name": "Python 3"
    }
  },
  "cells": [
    {
      "cell_type": "markdown",
      "metadata": {
        "id": "view-in-github",
        "colab_type": "text"
      },
      "source": [
        "<a href=\"https://colab.research.google.com/github/muasifk/asifkhan.io/blob/dev/files/crowdcounting.ipynb\" target=\"_parent\"><img src=\"https://colab.research.google.com/assets/colab-badge.svg\" alt=\"Open In Colab\"/></a>"
      ]
    },
    {
      "cell_type": "markdown",
      "metadata": {
        "id": "ZfPCueqos1_p",
        "colab_type": "text"
      },
      "source": [
        "#**Crowd Counting**\n",
        "\n",
        "Crowd Counting is a technique to count or estimate the number of people in an image or video.\n",
        "\n",
        "**Applications**\n",
        "\n",
        "\n",
        "1.   How many people attended a sporting event\n",
        "2.   How many people attended an inauguration or march (political rallies)\n",
        "3.   How many vehicles are on the road.\n",
        "\n",
        "<hr>\n",
        "\n",
        "##**Methods used for Crowd Counting**\n",
        "\n",
        "**1. Detection-based methods**\n",
        "\n",
        "> *Monolithic Detection:* Trains the classifier using the full-body appearance. Typical features include Haar wavelets, histogram of oriented gradient (HOG). ML algorithms include SVM, RF etc.\n",
        "\n",
        "> *Part-based detection:* Train the classifier using a part, say head or shoulders or head+shoulder and applies a classifier to it.\n",
        "\n",
        "> *Shape-based detection:* Draw boundaries around humans using ellipses, and then a stochastic process is used to estimate the number and shape.\n",
        "\n",
        "**Cons:** Not good for dense crowds.\n",
        "\n",
        "\n",
        "\n",
        "**2. Regression-based methods**\n",
        "\n",
        "> Features (e.g. edge details, foreground pixels) are extracted from the local image patches and mapped to the count. \n",
        "\n",
        "\n",
        "**3. Density estimation-based methods**\n",
        "\n",
        "> Does not learn each individual separately, instead tracks a group of individuals at a time. Focuses on the density by learning the mapping between local features and object density maps.\n",
        "\n",
        "\n",
        "\n",
        "\n",
        "**4. Deep Learning-based methods**\n",
        "> Use CNN for regression. The datasets include annotated images.\n",
        "\n",
        "\n",
        "\n"
      ]
    }
  ]
}