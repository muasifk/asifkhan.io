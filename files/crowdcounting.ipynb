{
  "nbformat": 4,
  "nbformat_minor": 0,
  "metadata": {
    "colab": {
      "name": "crowdcounting.ipynb",
      "provenance": [],
      "authorship_tag": "ABX9TyPFJKnO1RNDZ7MeQomghxG7",
      "include_colab_link": true
    },
    "kernelspec": {
      "name": "python3",
      "display_name": "Python 3"
    }
  },
  "cells": [
    {
      "cell_type": "markdown",
      "metadata": {
        "id": "view-in-github",
        "colab_type": "text"
      },
      "source": [
        "<a href=\"https://colab.research.google.com/github/muasifk/asifkhan.io/blob/dev/files/crowdcounting.ipynb\" target=\"_parent\"><img src=\"https://colab.research.google.com/assets/colab-badge.svg\" alt=\"Open In Colab\"/></a>"
      ]
    },
    {
      "cell_type": "markdown",
      "metadata": {
        "id": "ZfPCueqos1_p",
        "colab_type": "text"
      },
      "source": [
        "#**Crowd Counting**\n",
        "\n",
        "Crowd Counting is a technique to count or estimate the number of people in an image.\n",
        "\n",
        "**Applications**\n",
        "\n",
        "\n",
        "1.   How many people attended a sporting event\n",
        "2.   How many people attended an inauguration or march (political rallies)\n",
        "3.   How many vehicles are on the road.\n",
        "\n",
        "\n",
        "##**Methods used for Crowd Counting**\n",
        "\n",
        "**Detection-based methods**\n",
        "\n",
        "**Regression-based methods**\n",
        "\n",
        "**Density estimation-based methods**\n",
        "\n",
        "**CNN-based methods**\n",
        "\n",
        "\n",
        "\n"
      ]
    }
  ]
}